{
 "cells": [
  {
   "cell_type": "markdown",
   "metadata": {},
   "source": [
    "# Challenge Assignment\n",
    "## Cliff Walking with Reinforcement Learning\n",
    "\n",
    "## CSCI E-82A\n",
    "\n",
    ">**Make sure** you include your name along with the name of your team and team members in the notebook you submit."
   ]
  },
  {
   "cell_type": "markdown",
   "metadata": {},
   "source": [
    "**Your name and team name here:** \n",
    "### Team Cobra\n",
    "- Zhong Gao\n",
    "- Heng Li\n",
    "- Matt Smith"
   ]
  },
  {
   "cell_type": "markdown",
   "metadata": {},
   "source": [
    "## Introduction\n",
    "\n",
    "In this challenge you will apply Monte Carlo reinforcement learning algorithms to a classic problem in reinforcement learning, known as the **cliff walking problem**. The cliff walking problem is a type of game. The goal is for the agent to find the highest reward (lowest cost) path from a starting state to the goal.   \n",
    "\n",
    "There are a number of versions of the cliff walking problems which have been used as research benchmarks over the years. You can find a short discussion of the cliff walking problem on page 132 of Sutton and Barto, second edition.    \n",
    "\n",
    "In the general cliff walking problem the agent starts in one corner of the state-space and must travel to goal, or terminal state, in another corner of the state-space. Between the starting state and goal state there is an area with a **cliff**. If the agent falls off a cliff it is sent back to the starting state. A schematic diagram of the state-space is shown in the diagram below.      \n",
    "\n",
    "<img src=\"CliffWalkingDiagram.JPG\" alt=\"Drawing\" style=\"width:500px; height:400px\"/>\n",
    "<center> State-space of cliff-walking problem </center>\n",
    "\n"
   ]
  },
  {
   "cell_type": "markdown",
   "metadata": {},
   "source": [
    "### Problem Description\n",
    "\n",
    "The agent must learn a policy to navigate from the starting state to the terminal state. The properties this problem are as follows:\n",
    "\n",
    "1. The state-space has two **continuous variables**, x and y.\n",
    "2. The starting state is at $x = 0.0$, $y = 0.0$. \n",
    "3. The terminal state has two segments:\n",
    "  - At $y = 0.0$ is in the range $9.0 \\le x \\le 10.0$. \n",
    "  - At $x = 10.0$ is in the range $0.0 \\le y \\le 1.0$.  \n",
    "4. The cliff zone is bounded by:\n",
    "  - $0.0 \\le y \\le 1.0$ and \n",
    "  - $1.0 \\le x \\le 9.0$. \n",
    "5. An agent entering the cliff zone is returned to the starting state.\n",
    "6. The agent moves 1.0 units per time step. \n",
    "7. The 8 possible **discrete actions** are moves in the following directions:  \n",
    "  - +x, \n",
    "  - +x, +y,\n",
    "  - +y\n",
    "  - -x, +y,\n",
    "  - -x,\n",
    "  - -x, -y,\n",
    "  - -y, and\n",
    "  - +x, -y. \n",
    "8. The rewards are:\n",
    "  - -1 for a time step in the state-space,\n",
    "  - -10 for colliding with an edge (barrier) of the state-space,\n",
    "  - -100 for falling off the cliff and returning to the starting state, and \n",
    "  - +1000 for reaching the terminal or goal state. \n",
    "  \n"
   ]
  },
  {
   "cell_type": "markdown",
   "metadata": {},
   "source": [
    "## Instructions\n",
    "\n",
    "In this challenge you and your team will do the following. Include commentary on each component of your algorithms. Make sure you answer the questions.  "
   ]
  },
  {
   "cell_type": "markdown",
   "metadata": {},
   "source": [
    "### Environment Simulator   \n",
    "\n",
    "Your reinforcement learning agent cannot contain any information about the environment other that the starting state and the possible actions. Therefore, you must create an environment simulator, with the following input and output:\n",
    "- Input: Arguments of state, the $(x,y)$ tuple, and discrete action\n",
    "- Output: the new state (s'), reward, and if the new state meets the terminal or goal criteria.\n",
    "\n",
    "Make sure you test your simulator functions carefully. The test cases must include, steps with each of the actions, falling off the cliff from each edge, hitting the barriers, and reaching the goal (terminal) edges. Errors in the simulator will make the rest of this challenge difficult.   \n",
    "\n",
    "> **Note**: For this problem, coordinate state is represented by a tuple of continuous variables. Make sure that you maintain coordinate state as continuous variables for this problem. "
   ]
  },
  {
   "cell_type": "code",
   "execution_count": 2,
   "metadata": {},
   "outputs": [
    {
     "name": "stdout",
     "output_type": "stream",
     "text": [
      "State: (0.7071067811865476, 0.7071067811865476), Reward: -1, Terminal: False\n",
      "State: (1.4142135623730951, 1.4142135623730951), Reward: -1, Terminal: False\n",
      "State: (2.121320343559643, 2.121320343559643), Reward: -1, Terminal: False\n",
      "State: (2.8284271247461903, 2.8284271247461903), Reward: -1, Terminal: False\n",
      "State: (3.5355339059327378, 3.5355339059327378), Reward: -1, Terminal: False\n",
      "State: (4.242640687119286, 4.242640687119286), Reward: -1, Terminal: False\n",
      "State: (4.949747468305834, 4.949747468305834), Reward: -1, Terminal: False\n",
      "State: (5.6568542494923815, 5.6568542494923815), Reward: -1, Terminal: False\n",
      "State: (6.363961030678929, 6.363961030678929), Reward: -1, Terminal: False\n",
      "State: (7.071067811865477, 7.071067811865477), Reward: -1, Terminal: False\n",
      "State: (7.778174593052025, 7.778174593052025), Reward: -1, Terminal: False\n",
      "State: (8.485281374238573, 8.485281374238573), Reward: -1, Terminal: False\n",
      "State: (9.192388155425121, 9.192388155425121), Reward: -1, Terminal: False\n",
      "State: (9.899494936611669, 9.899494936611669), Reward: -1, Terminal: False\n",
      "State: (9.899494936611669, 9.899494936611669), Reward: -10, Terminal: False\n",
      "State: (9.899494936611669, 9.899494936611669), Reward: -10, Terminal: False\n",
      "State: (9.899494936611669, 9.899494936611669), Reward: -10, Terminal: False\n",
      "State: (9.899494936611669, 9.899494936611669), Reward: -10, Terminal: False\n",
      "State: (9.899494936611669, 9.899494936611669), Reward: -10, Terminal: False\n",
      "State: (9.899494936611669, 9.899494936611669), Reward: -10, Terminal: False\n"
     ]
    },
    {
     "data": {
      "image/png": "[encoded data removed]",
      "text/plain": [
       "<Figure size 432x288 with 1 Axes>"
      ]
     },
     "metadata": {
      "needs_background": "light"
     },
     "output_type": "display_data"
    }
   ],
   "source": [
    "import math\n",
    "from math import cos\n",
    "import numpy as np\n",
    "import numpy.random as nr\n",
    "import matplotlib.pyplot as plt\n",
    "%matplotlib inline\n",
    "\n",
    "# Variables\n",
    "n_states = 10**2\n",
    "n_episodes = 1000\n",
    "radian = (45 * math.pi)/180 #for diagonal movement\n",
    "initial_state = tuple((0,0))\n",
    "state = tuple((0,0))\n",
    "action_index = {0: tuple((0,1)), 1: tuple((1,1)), 2: tuple((1,0)), \n",
    "                3: tuple((1,-1)), 4: tuple((0,-1)), 5: tuple((-1,-1)), \n",
    "                6:tuple((-1,0)), 7: tuple((-1,-1))}\n",
    "n_actions = len(action_index)\n",
    "\n",
    "\n",
    "def sim_walk(state, action):\n",
    "    # Translate action diagonals if necessary\n",
    "    if (abs(action[0]) == abs(action[1])):\n",
    "            action = tuple(np.multiply(action, tuple((cos(radian), cos(radian)))))\n",
    "\n",
    "    # Update position/state\n",
    "    terminal = False\n",
    "    state_prime = tuple(np.add(state, action))\n",
    "    \n",
    "    # Check location in grid and terminal state\n",
    "    grid_prime = tuple((math.floor(state_prime[0]), math.floor(state_prime[1]))) # the current state in grid units\n",
    "    \n",
    "    reward = -1\n",
    "\n",
    "    # Restart if off cliff\n",
    "    if (off_cliff(state_prime)):\n",
    "        state_prime = tuple((0,0))\n",
    "        reward = -100\n",
    "        \n",
    "    # Check if goal is met (before boundary)\n",
    "    if (is_terminal(state_prime)):\n",
    "        state_prime = grid_prime\n",
    "        terminal = True\n",
    "        reward = 1000\n",
    "                       \n",
    "    # Check if boundary hit\n",
    "    if (off_grid(state_prime)):\n",
    "        state_prime = state\n",
    "        reward = -10\n",
    "        \n",
    "    return (state_prime, reward, terminal)\n",
    "    \n",
    "def off_cliff(current_state):\n",
    "    return ((1 <= current_state[0] <= 9) & \n",
    "            ((0 <= current_state[1] <= 1)))\n",
    "\n",
    "def is_terminal(current_state):\n",
    "    return ((current_state[0] > 9) & \n",
    "            (current_state[1] < 1))\n",
    "\n",
    "def off_grid(current_state):\n",
    "    return ((current_state[0] < 0) | \n",
    "            (current_state[0] > 10) | \n",
    "            (current_state[1] < 0) | \n",
    "            (current_state[1] > 10))\n",
    "\n",
    "## Test the function\n",
    "\n",
    "state_list = [state]\n",
    "for i in range(20):\n",
    "    s_prime, reward, terminal = sim_walk(state, action_index[1])\n",
    "    state = s_prime\n",
    "    state_list.append(s_prime)\n",
    "    print(f\"State: {state}, Reward: {reward}, Terminal: {terminal}\")\n",
    "    \n",
    "def plot_walk(states):  \n",
    "    plt.axis([-0.1,10, -0.1,10])\n",
    "    plt.title(\"Cliff Walk\")\n",
    "    plt.plot(*zip(*states))\n",
    "    plt.show()\n",
    "    \n",
    "plot_walk(state_list)"
   ]
  },
  {
   "cell_type": "markdown",
   "metadata": {},
   "source": [
    "### Grid Approximation\n",
    "\n",
    "The state-space of the cliff walking problem is continuous. Therefor, you will need to use a **grid approximation** to construct a policy. The policy is specified as the probability of action for each grid cell. For this problem, use a 10x10 grid. \n",
    "\n",
    "> **Note:** While the policy uses a grid approximation, state should be represented as continuous variables."
   ]
  },
  {
   "cell_type": "markdown",
   "metadata": {},
   "source": [
    "### Initial Policy\n",
    "\n",
    "Start with a uniform initial policy. A uniform policy has an equal probability of taking any of the 8 possible actions for each cell in the grid representation.     \n",
    "\n",
    "> **Note:** As has already been stated, the coordinate state representation for this problem is a tuple of coordinate values. However, policy, state-values and action-values are represented with a grid approximation. \n",
    "\n",
    "> **Hint:** You may wish to use a 3-dimensional numpy array to code the policy for this problem. With 8 possible actions, this approach will be easier to work with. \n",
    "\n"
   ]
  },
  {
   "cell_type": "code",
   "execution_count": 3,
   "metadata": {},
   "outputs": [
    {
     "data": {
      "text/plain": [
       "array([[[0.125, 0.125, 0.125, 0.125, 0.125, 0.125, 0.125, 0.125, 0.125,\n",
       "         0.125],\n",
       "        [0.125, 0.125, 0.125, 0.125, 0.125, 0.125, 0.125, 0.125, 0.125,\n",
       "         0.125],\n",
       "        [0.125, 0.125, 0.125, 0.125, 0.125, 0.125, 0.125, 0.125, 0.125,\n",
       "         0.125]],\n",
       "\n",
       "       [[0.125, 0.125, 0.125, 0.125, 0.125, 0.125, 0.125, 0.125, 0.125,\n",
       "         0.125],\n",
       "        [0.125, 0.125, 0.125, 0.125, 0.125, 0.125, 0.125, 0.125, 0.125,\n",
       "         0.125],\n",
       "        [0.125, 0.125, 0.125, 0.125, 0.125, 0.125, 0.125, 0.125, 0.125,\n",
       "         0.125]],\n",
       "\n",
       "       [[0.125, 0.125, 0.125, 0.125, 0.125, 0.125, 0.125, 0.125, 0.125,\n",
       "         0.125],\n",
       "        [0.125, 0.125, 0.125, 0.125, 0.125, 0.125, 0.125, 0.125, 0.125,\n",
       "         0.125],\n",
       "        [0.125, 0.125, 0.125, 0.125, 0.125, 0.125, 0.125, 0.125, 0.125,\n",
       "         0.125]],\n",
       "\n",
       "       [[0.125, 0.125, 0.125, 0.125, 0.125, 0.125, 0.125, 0.125, 0.125,\n",
       "         0.125],\n",
       "        [0.125, 0.125, 0.125, 0.125, 0.125, 0.125, 0.125, 0.125, 0.125,\n",
       "         0.125],\n",
       "        [0.125, 0.125, 0.125, 0.125, 0.125, 0.125, 0.125, 0.125, 0.125,\n",
       "         0.125]],\n",
       "\n",
       "       [[0.125, 0.125, 0.125, 0.125, 0.125, 0.125, 0.125, 0.125, 0.125,\n",
       "         0.125],\n",
       "        [0.125, 0.125, 0.125, 0.125, 0.125, 0.125, 0.125, 0.125, 0.125,\n",
       "         0.125],\n",
       "        [0.125, 0.125, 0.125, 0.125, 0.125, 0.125, 0.125, 0.125, 0.125,\n",
       "         0.125]],\n",
       "\n",
       "       [[0.125, 0.125, 0.125, 0.125, 0.125, 0.125, 0.125, 0.125, 0.125,\n",
       "         0.125],\n",
       "        [0.125, 0.125, 0.125, 0.125, 0.125, 0.125, 0.125, 0.125, 0.125,\n",
       "         0.125],\n",
       "        [0.125, 0.125, 0.125, 0.125, 0.125, 0.125, 0.125, 0.125, 0.125,\n",
       "         0.125]],\n",
       "\n",
       "       [[0.125, 0.125, 0.125, 0.125, 0.125, 0.125, 0.125, 0.125, 0.125,\n",
       "         0.125],\n",
       "        [0.125, 0.125, 0.125, 0.125, 0.125, 0.125, 0.125, 0.125, 0.125,\n",
       "         0.125],\n",
       "        [0.125, 0.125, 0.125, 0.125, 0.125, 0.125, 0.125, 0.125, 0.125,\n",
       "         0.125]],\n",
       "\n",
       "       [[0.125, 0.125, 0.125, 0.125, 0.125, 0.125, 0.125, 0.125, 0.125,\n",
       "         0.125],\n",
       "        [0.125, 0.125, 0.125, 0.125, 0.125, 0.125, 0.125, 0.125, 0.125,\n",
       "         0.125],\n",
       "        [0.125, 0.125, 0.125, 0.125, 0.125, 0.125, 0.125, 0.125, 0.125,\n",
       "         0.125]]])"
      ]
     },
     "execution_count": 3,
     "metadata": {},
     "output_type": "execute_result"
    }
   ],
   "source": [
    "initial_policy = np.ones((8, 3, 10)) / 8\n",
    "initial_policy"
   ]
  },
  {
   "cell_type": "markdown",
   "metadata": {},
   "source": [
    "### Monte Carlo State Value Estimation   \n",
    "\n",
    "For the initial uniform policy, compute the state values using the Monte Carlo RL algorithm:\n",
    "1. Compute and print the state values for each grid in the representation. Use at least 1,000 episodes. This will take some time to execute.      \n",
    "2. Plot the grid of state values, as an image (e.g. matplotlib [imshow](https://matplotlib.org/3.1.1/api/_as_gen/matplotlib.pyplot.imshow.html)). \n",
    "3. Compute the Forbenious norm (Euclidean norm) of the state value array with [numpy.linalg.norm](https://docs.scipy.org/doc/numpy/reference/generated/numpy.linalg.norm.html). You will use this figure as a basis to compare your improved policy. \n",
    "\n",
    "Study your plot to ensure your state values seem correct. Do these state values seem reasonable given the uniform policy and why? Make sure you pay attention to the state values of the cliff zone.    \n",
    "\n",
    "> **Hint:** Careful testing at each stage of your algorithm development will potentially save you considerable time. Test your function(s) to for a single episode to make sure your algorithm converges. Then test for say 10 episodes to ensure the state values update in a reasonable manner at each episode.    \n",
    "\n",
    "> **Note:** The Monte Carlo episodes can be executed in parallel for production systems. The Markov chain of each episode is statistically independent. "
   ]
  },
  {
   "cell_type": "code",
   "execution_count": 5,
   "metadata": {},
   "outputs": [
    {
     "data": {
      "text/plain": [
       "((1, 1), (0.7071067811865476, 0.7071067811865476), -1, False)"
      ]
     },
     "execution_count": 5,
     "metadata": {},
     "output_type": "execute_result"
    }
   ],
   "source": [
    "def take_action(state, policy, actions = action_index): \n",
    "    action = actions[nr.choice(range(len(actions)), p = policy[:, state[0], state[1]])]\n",
    "    s_prime, reward, is_terminal = sim_walk(state, action)\n",
    "    return (action, s_prime, reward, is_terminal)\n",
    "\n",
    "take_action((0,0), initial_policy)"
   ]
  },
  {
   "cell_type": "code",
   "execution_count": 16,
   "metadata": {},
   "outputs": [],
   "source": [
    "# MC_episode() and MC_state_values()\n",
    "# Heng working on both"
   ]
  },
  {
   "cell_type": "code",
   "execution_count": 17,
   "metadata": {},
   "outputs": [],
   "source": [
    "# nr.seed(234)\n",
    "# state_values = MC_state_values(initial_policy, n_episodes = 5000)\n",
    "# print(state_values.reshape((10,10)))"
   ]
  },
  {
   "cell_type": "markdown",
   "metadata": {},
   "source": [
    "### Monte Carlo State Policy Improvement   \n",
    "\n",
    "Finally, you will perform Monte Carlo RL policy improvement:\n",
    "1. Starting with the uniform policy, compute action-values for each grid in the representation. Use at least 1,000 episodes.      \n",
    "2. Use these action values to find an improved policy.\n",
    "3. To evaluate your updated policy compute the state-values for this policy.  \n",
    "4. Plot the grid of state values for the improved policy, as an image. \n",
    "5. Compute the Forbenious norm (Euclidean norm) of the state value array. \n",
    "\n",
    "Compare the state value plot for the improved policy to the one for the initial uniform policy. Does the improved state values increase generally as distance to the terminal states decreases?  Is this what you expect and why?    \n",
    "\n",
    "Compare the norm of the state values with your improved policy to the norm for the uniform policy. Is the increase significant?  \n",
    "\n",
    "> **Hint:** Careful testing at each stage of your algorithm development will potentially save you considerable time. Test your function(s) to for a single episode to make sure your algorithm converges. Then test for say 10 episodes to ensure the state values update in a reasonable manner at each episode.   \n",
    "\n",
    "> **Note:** You could continue to improve policy using the general policy improvement algorithm (GPI). In the interest of time, you are not required to do so here. "
   ]
  },
  {
   "cell_type": "code",
   "execution_count": null,
   "metadata": {},
   "outputs": [],
   "source": [
    "def print_Q(Q):\n",
    "    Q = pd.DataFrame(Q, columns = ['N', 'NE', 'E', 'SE', 'S', 'SW', 'W', 'NW'])\n",
    "    print(Q)\n",
    "\n",
    "def MC_action_values(policy, Q, n_episodes, inital_state):\n",
    "    n_states = len(policy)\n",
    "    n_actions = len(policy[0])\n",
    "    n_visits = np.zeros((n_states, n_actions))\n",
    "    neighbors = {}\n",
    "    \n",
    "    for _ in range(n_episodes):\n",
    "        Q, n_visits = MC_action_value_episode(policy, Q, n_visits, initial_state, n_states, n_actions)\n",
    "    return(Q)\n",
    "\n",
    "initial_Q = np.zeros((n_states, n_actions))\n",
    "updated_Q = MC_action_values(initial_policy, initial_Q, n_episodes, initial_state)\n",
    "print_Q(updated_Q)  "
   ]
  },
  {
   "cell_type": "code",
   "execution_count": null,
   "metadata": {},
   "outputs": [],
   "source": [
    "initial_copy = deepcopy(initial_policy)\n",
    "\n",
    "def update_policy(policy, Q, epsilon, action_index = action_index):\n",
    "    keys = list(policy[0].keys())\n",
    "    \n",
    "    for state in range(len(policy)): \n",
    "        q = Q[state,:]\n",
    "        max_action_index = np.where(q == max(q))[0]\n",
    "\n",
    "        n_transitions = float(len(q))\n",
    "        n_max_transitions = float(len(max_action_index))\n",
    "        p_max_transitions = (1.0 - epsilon *(n_transitions - n_max_transitions))/(n_max_transitions)\n",
    "  \n",
    "        for key in keys:\n",
    "            if(action_index[key] in max_action_index): policy[state][key] = p_max_transitions\n",
    "            else: policy[state][key] = epsilon\n",
    "    return(policy)                \n",
    "\n",
    "improved_policy = update_policy(initial_copy, initial_Q, 0.01) \n",
    "improved_policy"
   ]
  },
  {
   "cell_type": "code",
   "execution_count": null,
   "metadata": {},
   "outputs": [],
   "source": [
    "nr.seed(457)\n",
    "state_values = MC_state_values(improved_policy, n_episodes = 10000)\n",
    "print(state_values.reshape((10,10)))"
   ]
  },
  {
   "cell_type": "markdown",
   "metadata": {},
   "source": [
    "## Solution\n",
    "\n",
    "Create cells below for your solution to the stated problem. Be sure to include some Markdown text and code comments to explain each component of your algorithm. "
   ]
  },
  {
   "cell_type": "code",
   "execution_count": null,
   "metadata": {
    "collapsed": true
   },
   "outputs": [],
   "source": []
  }
 ],
 "metadata": {
  "kernelspec": {
   "display_name": "Python 3",
   "language": "python",
   "name": "python3"
  },
  "language_info": {
   "codemirror_mode": {
    "name": "ipython",
    "version": 3
   },
   "file_extension": ".py",
   "mimetype": "text/x-python",
   "name": "python",
   "nbconvert_exporter": "python",
   "pygments_lexer": "ipython3",
   "version": "3.7.4"
  }
 },
 "nbformat": 4,
 "nbformat_minor": 2
}
